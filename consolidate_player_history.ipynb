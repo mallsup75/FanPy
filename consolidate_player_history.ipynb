{
  "cells": [
    {
      "cell_type": "code",
      "source": [
        "from azure.storage.blob import BlobServiceClient\n",
        "import json\n",
        "\n",
        "# Define the leagueId to year mapping\n",
        "LEAGUE_YEAR_MAPPING = {\n",
        "    \"xdkosenrm3hx9eke\": 2025,\n",
        "    \"j5a3cvfdlrql6l7a\": 2024,\n",
        "    \"rsrawueflbxqxrbv\": 2023,\n",
        "    \"k2mh10wll1b2c1hg\": 2022,\n",
        "    \"x7ioxuq5kmvfgnky\": 2021\n",
        "}\n",
        "\n",
        "# Connect to Azure Blob Storage\n",
        "connection_string = \"DefaultEndpointsProtocol=https;AccountName=sg092620240215;AccountKey=+PaTF6WCZ0NY63Hni1XIWRJfWsnTI7QJCLVP0f1OXUoVzJyl0AcE4h2Pe1b7ZbgldGkDDFA0j9iK+AStvU4auA==;EndpointSuffix=core.windows.net\"\n",
        "blob_service_client = BlobServiceClient.from_connection_string(connection_string)\n",
        "silver_client = blob_service_client.get_container_client(\"silver\")\n",
        "\n",
        "# Load and transform data\n",
        "combined_data = {}\n",
        "blob_list = silver_client.list_blobs(name_starts_with=\"combined_rosters_\")\n",
        "for blob in blob_list:\n",
        "    print(f\"Processing {blob.name}\")\n",
        "    blob_client = silver_client.get_blob_client(blob.name)\n",
        "    blob_data = blob_client.download_blob().readall()\n",
        "    json_data = json.loads(blob_data.decode(\"utf-8\"))\n",
        "    combined_data.update(json_data)  # Merge all files into one dict\n",
        "\n",
        "# Add 'year' column based on leagueId\n",
        "transformed_data = {}\n",
        "for league_id, rosters in combined_data.items():\n",
        "    year = LEAGUE_YEAR_MAPPING.get(league_id, None)  # None if leagueId not in mapping\n",
        "    if year is None:\n",
        "        print(f\"Warning: No year mapping found for leagueId '{league_id}'\")\n",
        "        continue  # Skip if no year mapping exists\n",
        "    \n",
        "    transformed_rosters = []\n",
        "    for roster in rosters:\n",
        "        enriched_roster = {\n",
        "            \"year\": year,\n",
        "            **roster  # Unpack teamName, id, position, salary, status\n",
        "        }\n",
        "        transformed_rosters.append(enriched_roster)\n",
        "    transformed_data[league_id] = transformed_rosters\n",
        "\n",
        "# Save transformed data to silver (or a new 'gold' container)\n",
        "if not transformed_data:\n",
        "    raise ValueError(\"No data transformed\")\n",
        "output_blob_name = \"transformed_rosters.json\"  # Or include timestamp if preferred\n",
        "output_blob_client = silver_client.get_blob_client(output_blob_name)\n",
        "output_blob_client.upload_blob(json.dumps(transformed_data, indent=2), overwrite=True)\n",
        "print(f\"Uploaded {output_blob_name} to silver container\")"
      ],
      "outputs": [
        {
          "output_type": "stream",
          "name": "stdout",
          "text": "Processing combined_rosters_20250302_000000.json\nUploaded transformed_rosters.json to silver container\n"
        }
      ],
      "execution_count": 1,
      "metadata": {
        "gather": {
          "logged": 1741125120539
        }
      }
    }
  ],
  "metadata": {
    "kernelspec": {
      "name": "python38-azureml",
      "language": "python",
      "display_name": "Python 3.8 - AzureML"
    },
    "language_info": {
      "name": "python",
      "version": "3.10.11",
      "mimetype": "text/x-python",
      "codemirror_mode": {
        "name": "ipython",
        "version": 3
      },
      "pygments_lexer": "ipython3",
      "nbconvert_exporter": "python",
      "file_extension": ".py"
    },
    "microsoft": {
      "ms_spell_check": {
        "ms_spell_check_language": "en"
      },
      "host": {
        "AzureML": {
          "notebookHasBeenCompleted": true
        }
      }
    },
    "kernel_info": {
      "name": "python38-azureml"
    },
    "nteract": {
      "version": "nteract-front-end@1.0.0"
    }
  },
  "nbformat": 4,
  "nbformat_minor": 2
}