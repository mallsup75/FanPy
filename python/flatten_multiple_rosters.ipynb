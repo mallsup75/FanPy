{
  "cells": [
    {
      "cell_type": "code",
      "source": [
        "from azure.storage.blob import BlobServiceClient\n",
        "import json\n",
        "import pandas as pd\n",
        "\n",
        "# Connect to Azure Blob Storage\n",
        "connection_string = \"DefaultEndpointsProtocol=https;AccountName=sg092620240215;AccountKey=+PaTF6WCZ0NY63Hni1XIWRJfWsnTI7QJCLVP0f1OXUoVzJyl0AcE4h2Pe1b7ZbgldGkDDFA0j9iK+AStvU4auA==;EndpointSuffix=core.windows.net\"\n",
        "blob_service_client = BlobServiceClient.from_connection_string(connection_string)\n",
        "silver_client = blob_service_client.get_container_client(\"silver\")\n",
        "\n",
        "# Load and flatten data\n",
        "all_rosters = []\n",
        "blob_list = silver_client.list_blobs(name_starts_with=\"trans\")\n",
        "for blob in blob_list:\n",
        "    print(f\"Processing {blob.name}\")\n",
        "    blob_client = silver_client.get_blob_client(blob.name)\n",
        "    blob_data = blob_client.download_blob().readall()\n",
        "    json_data = json.loads(blob_data.decode(\"utf-8\"))\n",
        "    \n",
        "    # Flatten: Extract all roster items, discarding leagueId keys\n",
        "    for league_id, rosters in json_data.items():\n",
        "        all_rosters.extend(rosters)  # Add all items to a single list\n",
        "\n",
        "# Convert to DataFrame and then CSV\n",
        "if not all_rosters:\n",
        "    raise ValueError(\"No roster items found to flatten\")\n",
        "df = pd.DataFrame(all_rosters)\n",
        "csv_data = df.to_csv(index=False)  # Convert to CSV string without row indices\n",
        "\n",
        "# Save to silver as CSV \n",
        "output_blob_name = \"flattened_rosters.csv\" \n",
        "output_blob_client = silver_client.get_blob_client(output_blob_name)\n",
        "output_blob_client.upload_blob(csv_data, overwrite=True)\n",
        "print(f\"Uploaded {output_blob_name} to silver container\")"
      ],
      "outputs": [],
      "execution_count": null,
      "metadata": {
        "gather": {
          "logged": 1741135851262
        }
      }
    }
  ],
  "metadata": {
    "kernelspec": {
      "name": "synapse_pyspark",
      "language": "Python",
      "display_name": "Synapse PySpark"
    },
    "language_info": {
      "name": "python",
      "version": "3.8.0",
      "mimetype": "text/x-python",
      "file_extension": ".py",
      "pygments_lexer": "ipython",
      "codemirror_mode": "ipython",
      "nbconvert_exporter": "python"
    },
    "microsoft": {
      "ms_spell_check": {
        "ms_spell_check_language": "en"
      },
      "host": {
        "AzureML": {
          "notebookHasBeenCompleted": true
        }
      }
    },
    "nteract": {
      "version": "nteract-front-end@1.0.0"
    },
    "kernel_info": {
      "name": "synapse_pyspark"
    }
  },
  "nbformat": 4,
  "nbformat_minor": 2
}
