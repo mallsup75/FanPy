{
  "cells": [
    {
      "cell_type": "code",
      "source": [
        "# Install required libraries if not already present\n",
        "!pip install azure-storage-blob pandas numpy\n",
        "\n",
        "from azure.storage.blob import BlobServiceClient\n",
        "import pandas as pd\n",
        "from datetime import datetime\n",
        "import io\n",
        "import numpy as np\n",
        "\n",
        "# Connect to Azure Blob Storage\n",
        "connection_string = \"DefaultEndpointsProtocol=https;AccountName=sg092620240215;AccountKey=+PaTF6WCZ0NY63Hni1XIWRJfWsnTI7QJCLVP0f1OXUoVzJyl0AcE4h2Pe1b7ZbgldGkDDFA0j9iK+AStvU4auA==;EndpointSuffix=core.windows.net\"\n",
        "blob_service_client = BlobServiceClient.from_connection_string(connection_string)\n",
        "container_client = blob_service_client.get_container_client(\"silver\")\n",
        "\n",
        "# Function to find the latest merged_rosters_players_with_groups_*.csv\n",
        "def get_latest_csv(container_client, prefix=\"merged_rosters_players_with_groups_\"):\n",
        "    latest_blob = None\n",
        "    latest_time = None\n",
        "    for blob in container_client.list_blobs(name_starts_with=prefix):\n",
        "        print(f\"Processing blob: {blob.name}\")\n",
        "        try:\n",
        "            parts = blob.name.split(\"_\")\n",
        "            if len(parts) < 6:\n",
        "                print(f\"Skipping {blob.name}: Not enough parts\")\n",
        "                continue\n",
        "            timestamp_str = f\"{parts[-2]}_{parts[-1].replace('.csv', '')}\"\n",
        "            timestamp = datetime.strptime(timestamp_str, \"%Y%m%d_%H%M%S\")\n",
        "            if latest_time is None or timestamp > latest_time:\n",
        "                latest_time = timestamp\n",
        "                latest_blob = blob.name\n",
        "        except ValueError as e:\n",
        "            print(f\"Skipping {blob.name}: Invalid timestamp ({e})\")\n",
        "            continue\n",
        "    return latest_blob\n",
        "\n",
        "# Check for latest CSV\n",
        "latest_blob = get_latest_csv(container_client)\n",
        "if not latest_blob:\n",
        "    raise ValueError(\"No merged_rosters_players_with_groups_*.csv files found\")\n",
        "else:\n",
        "    print(f\"Latest CSV found: {latest_blob}\")\n",
        "\n",
        "# Load the latest CSV\n",
        "print(f\"Loading {latest_blob}\")\n",
        "blob_client = container_client.get_blob_client(latest_blob)\n",
        "blob_data = blob_client.download_blob().readall().decode(\"utf-8\")\n",
        "df = pd.read_csv(io.StringIO(blob_data))\n",
        "\n",
        "# Normalize ADP and salary by position_group for year=2025 (min-max)\n",
        "df_2025 = df[df['year'] == 2025].copy()\n",
        "for group in df_2025['position_group'].unique():\n",
        "    mask = df_2025['position_group'] == group\n",
        "    # Normalize ADP\n",
        "    adp_min = df_2025.loc[mask, 'ADP'].min()\n",
        "    adp_max = df_2025.loc[mask, 'ADP'].max()\n",
        "    if adp_max > adp_min:\n",
        "        df_2025.loc[mask, 'ADP_normalized'] = (df_2025.loc[mask, 'ADP'] - adp_min) / (adp_max - adp_min)\n",
        "    else:\n",
        "        df_2025.loc[mask, 'ADP_normalized'] = 0.0\n",
        "    \n",
        "    # Normalize salary\n",
        "    salary_min = df_2025.loc[mask, 'salary'].min()\n",
        "    salary_max = df_2025.loc[mask, 'salary'].max()\n",
        "    if salary_max > salary_min:\n",
        "        df_2025.loc[mask, 'salary_normalized_by_pos'] = (df_2025.loc[mask, 'salary'] - salary_min) / (salary_max - salary_min)\n",
        "    else:\n",
        "        df_2025.loc[mask, 'salary_normalized_by_pos'] = 0.0\n",
        "\n",
        "# Merge normalized columns back\n",
        "df = df.merge(df_2025[['id', 'ADP_normalized', 'salary_normalized_by_pos']], on='id', how='left')\n",
        "df['ADP_normalized'] = df['ADP_normalized'].fillna(0.0)\n",
        "df['salary_normalized_by_pos'] = df['salary_normalized_by_pos'].fillna(0.0)\n",
        "\n",
        "# Normalize salary by position_group and teamName for all years (min-max)\n",
        "for pos_group, team_group in df.groupby(['position_group', 'teamName']).groups.keys():\n",
        "    mask = (df['position_group'] == pos_group) & (df['teamName'] == team_group)\n",
        "    salary_min = df.loc[mask, 'salary'].min()\n",
        "    salary_max = df.loc[mask, 'salary'].max()\n",
        "    if salary_max > salary_min:\n",
        "        df.loc[mask, 'salary_normalized_by_pos_team'] = (df.loc[mask, 'salary'] - salary_min) / (salary_max - salary_min)\n",
        "    else:\n",
        "        df.loc[mask, 'salary_normalized_by_pos_team'] = 0.0\n",
        "\n",
        "# Z-score and index for 2025 by position_group\n",
        "df_2025 = df[df['year'] == 2025].copy()\n",
        "for group in df_2025['position_group'].unique():\n",
        "    mask = df_2025['position_group'] == group\n",
        "    # Z-score ADP (negated so lower is better)\n",
        "    adp_mean = df_2025.loc[mask, 'ADP'].mean()\n",
        "    adp_std = df_2025.loc[mask, 'ADP'].std()\n",
        "    if adp_std > 0:\n",
        "        df_2025.loc[mask, 'ADP_zscore'] = -1 * (df_2025.loc[mask, 'ADP'] - adp_mean) / adp_std\n",
        "    else:\n",
        "        df_2025.loc[mask, 'ADP_zscore'] = 0.0\n",
        "    \n",
        "    # Z-score salary (negated so lower is better)\n",
        "    salary_mean = df_2025.loc[mask, 'salary'].mean()\n",
        "    salary_std = df_2025.loc[mask, 'salary'].std()\n",
        "    if salary_std > 0:\n",
        "        df_2025.loc[mask, 'salary_zscore_by_pos'] = -1 * (df_2025.loc[mask, 'salary'] - salary_mean) / salary_std\n",
        "    else:\n",
        "        df_2025.loc[mask, 'salary_zscore_by_pos'] = 0.0\n",
        "    \n",
        "    # Index: Average of negated z-scores (higher = better value)\n",
        "    df_2025.loc[mask, 'value_index_by_pos'] = (df_2025.loc[mask, 'ADP_zscore'] + df_2025.loc[mask, 'salary_zscore_by_pos']) / 2\n",
        "\n",
        "# Merge z-scores and index back\n",
        "df = df.merge(df_2025[['id', 'ADP_zscore', 'salary_zscore_by_pos', 'value_index_by_pos']], on='id', how='left')\n",
        "df[['ADP_zscore', 'salary_zscore_by_pos', 'value_index_by_pos']] = df[['ADP_zscore', 'salary_zscore_by_pos', 'value_index_by_pos']].fillna(0.0)\n",
        "\n",
        "# Z-score and index for all years by position_group and teamName\n",
        "for pos_group, team_group in df.groupby(['position_group', 'teamName']).groups.keys():\n",
        "    mask = (df['position_group'] == pos_group) & (df['teamName'] == team_group)\n",
        "    # Z-score salary (negated)\n",
        "    salary_mean = df.loc[mask, 'salary'].mean()\n",
        "    salary_std = df.loc[mask, 'salary'].std()\n",
        "    if salary_std > 0:\n",
        "        df.loc[mask, 'salary_zscore_by_pos_team'] = -1 * (df.loc[mask, 'salary'] - salary_mean) / salary_std\n",
        "    else:\n",
        "        df.loc[mask, 'salary_zscore_by_pos_team'] = 0.0\n",
        "\n",
        "# Save the updated DataFrame back to silver\n",
        "output_blob_name = f\"merged_rosters_players_normalized_and_indexed_{datetime.utcnow().strftime('%Y%m%d_%H%M%S')}.csv\"\n",
        "output_blob_client = container_client.get_blob_client(output_blob_name)\n",
        "output_csv = df.to_csv(index=False)\n",
        "output_blob_client.upload_blob(output_csv, overwrite=True)\n",
        "print(f\"Uploaded normalized and indexed CSV to silver as {output_blob_name}\")\n",
        "\n",
        "# Display the updated DataFrame\n",
        "print(\"Updated DataFrame (first 5 rows):\")\n",
        "print(df.head())"
      ],
      "outputs": [
        {
          "output_type": "display_data",
          "data": {
            "application/vnd.livy.statement-meta+json": {
              "spark_pool": "b73298e2-f1b8-4875-a47a-e543f5595c3b",
              "statement_id": 7,
              "statement_ids": [
                7
              ],
              "state": "finished",
              "livy_statement_state": "available",
              "spark_jobs": {
                "numbers": {
                  "SUCCEEDED": 0,
                  "FAILED": 0,
                  "RUNNING": 0,
                  "UNKNOWN": 0
                },
                "jobs": [],
                "limit": 20,
                "rule": "ALL_DESC"
              },
              "session_id": "6",
              "normalized_state": "finished",
              "queued_time": "2025-03-09T00:55:28.2446667Z",
              "session_start_time": null,
              "execution_start_time": "2025-03-09T00:55:28.3407587Z",
              "execution_finish_time": "2025-03-09T00:55:33.3512098Z",
              "parent_msg_id": "3f38700d-cdf4-4478-a85b-c6064f8f65f9"
            },
            "text/plain": "StatementMeta(b73298e2-f1b8-4875-a47a-e543f5595c3b, 6, 7, Finished, Available, Finished)"
          },
          "metadata": {}
        },
        {
          "output_type": "stream",
          "name": "stdout",
          "text": "Requirement already satisfied: azure-storage-blob in /home/trusted-service-user/cluster-env/env/lib/python3.10/site-packages (12.14.1)\nRequirement already satisfied: pandas in /home/trusted-service-user/cluster-env/env/lib/python3.10/site-packages (1.5.1)\nRequirement already satisfied: numpy in /home/trusted-service-user/cluster-env/env/lib/python3.10/site-packages (1.23.4)\nRequirement already satisfied: msrest>=0.7.1 in /home/trusted-service-user/cluster-env/env/lib/python3.10/site-packages (from azure-storage-blob) (0.7.1)\nRequirement already satisfied: cryptography>=2.1.4 in /home/trusted-service-user/cluster-env/env/lib/python3.10/site-packages (from azure-storage-blob) (38.0.3)\nRequirement already satisfied: azure-core<2.0.0,>=1.24.2 in /home/trusted-service-user/cluster-env/env/lib/python3.10/site-packages (from azure-storage-blob) (1.26.1)\nRequirement already satisfied: python-dateutil>=2.8.1 in /home/trusted-service-user/cluster-env/env/lib/python3.10/site-packages (from pandas) (2.8.2)\nRequirement already satisfied: pytz>=2020.1 in /home/trusted-service-user/cluster-env/env/lib/python3.10/site-packages (from pandas) (2022.6)\nRequirement already satisfied: typing-extensions>=4.0.1 in /home/trusted-service-user/cluster-env/env/lib/python3.10/site-packages (from azure-core<2.0.0,>=1.24.2->azure-storage-blob) (4.4.0)\nRequirement already satisfied: six>=1.11.0 in /home/trusted-service-user/cluster-env/env/lib/python3.10/site-packages (from azure-core<2.0.0,>=1.24.2->azure-storage-blob) (1.16.0)\nRequirement already satisfied: requests>=2.18.4 in /home/trusted-service-user/cluster-env/env/lib/python3.10/site-packages (from azure-core<2.0.0,>=1.24.2->azure-storage-blob) (2.28.1)\nRequirement already satisfied: cffi>=1.12 in /home/trusted-service-user/cluster-env/env/lib/python3.10/site-packages (from cryptography>=2.1.4->azure-storage-blob) (1.15.1)\nRequirement already satisfied: certifi>=2017.4.17 in /home/trusted-service-user/cluster-env/env/lib/python3.10/site-packages (from msrest>=0.7.1->azure-storage-blob) (2022.9.24)\nRequirement already satisfied: isodate>=0.6.0 in /home/trusted-service-user/cluster-env/env/lib/python3.10/site-packages (from msrest>=0.7.1->azure-storage-blob) (0.6.0)\nRequirement already satisfied: requests-oauthlib>=0.5.0 in /home/trusted-service-user/cluster-env/env/lib/python3.10/site-packages (from msrest>=0.7.1->azure-storage-blob) (1.3.1)\nRequirement already satisfied: pycparser in /home/trusted-service-user/cluster-env/env/lib/python3.10/site-packages (from cffi>=1.12->cryptography>=2.1.4->azure-storage-blob) (2.21)\nRequirement already satisfied: charset-normalizer<3,>=2 in /home/trusted-service-user/cluster-env/env/lib/python3.10/site-packages (from requests>=2.18.4->azure-core<2.0.0,>=1.24.2->azure-storage-blob) (2.1.1)\nRequirement already satisfied: idna<4,>=2.5 in /home/trusted-service-user/cluster-env/env/lib/python3.10/site-packages (from requests>=2.18.4->azure-core<2.0.0,>=1.24.2->azure-storage-blob) (3.4)\nRequirement already satisfied: urllib3<1.27,>=1.21.1 in /home/trusted-service-user/cluster-env/env/lib/python3.10/site-packages (from requests>=2.18.4->azure-core<2.0.0,>=1.24.2->azure-storage-blob) (1.26.4)\nRequirement already satisfied: oauthlib>=3.0.0 in /home/trusted-service-user/cluster-env/env/lib/python3.10/site-packages (from requests-oauthlib>=0.5.0->msrest>=0.7.1->azure-storage-blob) (3.2.2)\nProcessing blob: merged_rosters_players_with_groups_20250308_155958.csv\nLatest CSV found: merged_rosters_players_with_groups_20250308_155958.csv\nLoading merged_rosters_players_with_groups_20250308_155958.csv\nUploaded normalized and indexed CSV to silver as merged_rosters_players_normalized_and_indexed_20250309_005532.csv\nUpdated DataFrame (first 5 rows):\n  pos              name     id   ADP  year               teamName position  \\\n0  DH    Ohtani, Shohei  02yc4  1.34  2022     Cleveland Steamers        P   \n1  DH    Ohtani, Shohei  02yc4  1.34  2023    Steel City Baseball      OFD   \n2  DH    Ohtani, Shohei  02yc4  1.34  2021     Cleveland Steamers      OFD   \n3  DH  Ohtani-H, Shohei  06alt  1.91  2024              SnowBlind      OFD   \n4  DH  Ohtani-H, Shohei  06alt  1.91  2025  Excuse me, I?m Olerud      OFD   \n\n       salary salary_display position_group  ADP_normalized  \\\n0  22000000.0           $22M            OFD             0.0   \n1  50000000.0           $50M            OFD             0.0   \n2  11000000.0           $11M            OFD             0.0   \n3  51000000.0           $51M            OFD             0.0   \n4  63000000.0           $63M            OFD             0.0   \n\n   salary_normalized_by_pos  salary_normalized_by_pos_team  ADP_zscore  \\\n0                  0.000000                       0.446809    0.000000   \n1                  0.000000                       1.000000    0.000000   \n2                  0.000000                       0.212766    0.000000   \n3                  0.910448                       0.925926    1.187694   \n4                  0.910448                       1.000000    1.187694   \n\n   salary_zscore_by_pos  value_index_by_pos  salary_zscore_by_pos_team  \n0              0.000000            0.000000                  -1.056917  \n1              0.000000            0.000000                  -2.783645  \n2              0.000000            0.000000                  -0.143076  \n3             -2.998565           -0.905435                  -1.470341  \n4             -2.998565           -0.905435                  -1.404570  \n"
        }
      ],
      "execution_count": 2,
      "metadata": {
        "gather": {
          "logged": 1741481732596
        }
      }
    }
  ],
  "metadata": {
    "kernelspec": {
      "name": "synapse_pyspark",
      "language": "Python",
      "display_name": "Synapse PySpark"
    },
    "language_info": {
      "name": "python",
      "version": "3.8.0",
      "mimetype": "text/x-python",
      "file_extension": ".py",
      "pygments_lexer": "ipython",
      "codemirror_mode": "ipython",
      "nbconvert_exporter": "python"
    },
    "microsoft": {
      "ms_spell_check": {
        "ms_spell_check_language": "en"
      }
    },
    "kernel_info": {
      "name": "synapse_pyspark"
    },
    "nteract": {
      "version": "nteract-front-end@1.0.0"
    }
  },
  "nbformat": 4,
  "nbformat_minor": 2
}
